{
 "cells": [
  {
   "cell_type": "code",
   "execution_count": null,
   "id": "f2f133cd",
   "metadata": {},
   "outputs": [],
   "source": [
    "import pandas as pd"
   ]
  },
  {
   "cell_type": "code",
   "execution_count": null,
   "id": "f1409004",
   "metadata": {},
   "outputs": [],
   "source": [
    "vine_df = pd.read_csv(\"./Amazon_Vine_Analysis/table.csv\")\n",
    "vine_df"
   ]
  },
  {
   "cell_type": "code",
   "execution_count": null,
   "id": "988edf6e",
   "metadata": {},
   "outputs": [],
   "source": [
    "vine_df.info()"
   ]
  },
  {
   "cell_type": "code",
   "execution_count": null,
   "id": "80fa1bf3",
   "metadata": {},
   "outputs": [],
   "source": [
    "vine_df_20 = vine_df.loc[vine_df[\"total_votes\"] >= 20]\n",
    "vine_df_20"
   ]
  },
  {
   "cell_type": "code",
   "execution_count": null,
   "id": "9e85d482",
   "metadata": {},
   "outputs": [],
   "source": [
    "vine_df_50 = vine_df_20.loc[(vine_df_20[\"helpful_votes\"] / vine_df_20[\"total_votes\"]) >=.5]\n",
    "vine_df_50"
   ]
  },
  {
   "cell_type": "code",
   "execution_count": null,
   "id": "4fe1813f",
   "metadata": {},
   "outputs": [],
   "source": [
    "paid_reviews_df = vine_df_50.loc[vine_df_50[\"vine\"] == 'Y']\n",
    "paid_reviews_df"
   ]
  },
  {
   "cell_type": "code",
   "execution_count": null,
   "id": "5cfc21d1",
   "metadata": {},
   "outputs": [],
   "source": [
    "unpaid_reviews_df = vine_df_50.loc[vine_df_50[\"vine\"] == 'N']\n",
    "unpaid_reviews_df"
   ]
  },
  {
   "cell_type": "code",
   "execution_count": null,
   "id": "7f626f63",
   "metadata": {},
   "outputs": [],
   "source": [
    "paid_5star_reviews = paid_reviews_df.loc[paid_reviews_df[\"star_rating\"] == 5][\"star_rating\"].count()\n",
    "paid_5star_reviews"
   ]
  },
  {
   "cell_type": "code",
   "execution_count": null,
   "id": "57eaadfd",
   "metadata": {},
   "outputs": [],
   "source": [
    "paid_reviews = paid_reviews_df[\"star_rating\"].count()\n",
    "paid_reviews"
   ]
  },
  {
   "cell_type": "code",
   "execution_count": null,
   "id": "c3ccfaeb",
   "metadata": {},
   "outputs": [],
   "source": [
    "percentage_paid_5star_reviews = round((paid_5star_reviews / paid_reviews) * 100, 2)\n",
    "percentage_paid_5star_reviews"
   ]
  },
  {
   "cell_type": "code",
   "execution_count": null,
   "id": "ec01f519",
   "metadata": {},
   "outputs": [],
   "source": [
    "unpaid_5star_reviews = unpaid_reviews_df.loc[unpaid_reviews_df[\"star_rating\"] == 5][\"star_rating\"].count()\n",
    "unpaid_5star_reviews"
   ]
  },
  {
   "cell_type": "code",
   "execution_count": null,
   "id": "146a99ea",
   "metadata": {},
   "outputs": [],
   "source": [
    "unpaid_reviews = unpaid_reviews_df[\"star_rating\"].count()\n",
    "unpaid_reviews"
   ]
  },
  {
   "cell_type": "code",
   "execution_count": null,
   "id": "90ef8e3d",
   "metadata": {},
   "outputs": [],
   "source": [
    "percentage_unpaid_5star_reviews = round((unpaid_5star_reviews / unpaid_reviews) * 100, 2)\n",
    "percentage_unpaid_5star_reviews"
   ]
  }
 ],
 "metadata": {
  "kernelspec": {
   "display_name": "PythonData",
   "language": "python",
   "name": "pythondata"
  },
  "language_info": {
   "codemirror_mode": {
    "name": "ipython",
    "version": 3
   },
   "file_extension": ".py",
   "mimetype": "text/x-python",
   "name": "python",
   "nbconvert_exporter": "python",
   "pygments_lexer": "ipython3",
   "version": "3.8.8"
  }
 },
 "nbformat": 4,
 "nbformat_minor": 5
}
